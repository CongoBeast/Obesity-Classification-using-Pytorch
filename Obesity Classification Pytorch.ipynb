{
 "cells": [
  {
   "cell_type": "code",
   "execution_count": 15,
   "id": "2dd5ff48",
   "metadata": {},
   "outputs": [
    {
     "name": "stdout",
     "output_type": "stream",
     "text": [
      "torch.Size([423, 16])\n"
     ]
    },
    {
     "name": "stderr",
     "output_type": "stream",
     "text": [
      "C:\\Users\\Administrator\\AppData\\Local\\Temp\\ipykernel_11496\\47174719.py:38: UserWarning: To copy construct from a tensor, it is recommended to use sourceTensor.clone().detach() or sourceTensor.clone().detach().requires_grad_(True), rather than torch.tensor(sourceTensor).\n",
      "  self.x = torch.tensor(x_data)\n",
      "C:\\Users\\Administrator\\AppData\\Local\\Temp\\ipykernel_11496\\47174719.py:39: UserWarning: To copy construct from a tensor, it is recommended to use sourceTensor.clone().detach() or sourceTensor.clone().detach().requires_grad_(True), rather than torch.tensor(sourceTensor).\n",
      "  self.y = torch.tensor(y_data)\n"
     ]
    }
   ],
   "source": [
    "import numpy as np\n",
    "import pandas as pd\n",
    "import torch\n",
    "import torch.nn as nn\n",
    "from sklearn.model_selection import train_test_split\n",
    "from torch.utils.data import DataLoader , Dataset\n",
    "\n",
    "\n",
    "df = pd.read_csv(\".\ObesityDataSet.csv\")\n",
    "\n",
    "\n",
    "df = df.astype(float)\n",
    "\n",
    "X = df.drop('NObeyesdad' , axis = 1)\n",
    "\n",
    "y = df['NObeyesdad']\n",
    "\n",
    "\n",
    "X_train , X_test , y_train , y_test = train_test_split(X , y , test_size=0.2)\n",
    "\n",
    "X_train = X_train.to_numpy()\n",
    "X_test = X_test.to_numpy()\n",
    "y_test = y_test.to_numpy()\n",
    "y_train = y_train.to_numpy()\n",
    "\n",
    "X_train = torch.tensor(X_train, dtype=torch.float32)\n",
    "X_test= torch.tensor(X_test, dtype=torch.float32)\n",
    "# y_train = torch.tensor(y_train, dtype=torch.float32).reshape(-1, 1)\n",
    "\n",
    "# X_train = torch.tensor(X_train.to_numpy(), dtype=torch.float32)\n",
    "y_train = torch.tensor(y_train, dtype=torch.long)\n",
    "y_test = torch.tensor(y_test, dtype=torch.long)\n",
    "\n",
    "print(X_test.size())\n",
    "\n",
    "class MyDataset(Dataset):\n",
    "    def __init__(self, x_data, y_data):\n",
    "        self.x = torch.tensor(x_data)\n",
    "        self.y = torch.tensor(y_data)\n",
    "\n",
    "    def __len__(self):\n",
    "        return len(self.x)  \n",
    "\n",
    "    def __getitem__(self, idx):\n",
    "        return self.x[idx], self.y[idx]\n",
    "    \n",
    "train_dataset = MyDataset(X_train , y_train)\n",
    "\n",
    "train_dataloader = DataLoader(\n",
    "    dataset=train_dataset,  # Specify your dataset\n",
    "    batch_size=64,         # Number of samples per batch\n",
    "    shuffle=True,          # Shuffle data before each epoch (usually for training)\n",
    "    num_workers=0,         # Number of worker processes for loading data (for multi-core CPUs)\n",
    ")\n"
   ]
  },
  {
   "cell_type": "code",
   "execution_count": 16,
   "id": "99a00aa4",
   "metadata": {},
   "outputs": [],
   "source": [
    "from torch.nn import functional as F\n",
    "\n",
    "class Net(nn.Module):\n",
    "    def __init__(self , x):\n",
    "        super().__init__()\n",
    "        self.layer1 = nn.Linear(16 , 14)\n",
    "        self.act = nn.ReLU()\n",
    "        self.layer2 = nn.Linear(14 , 12)\n",
    "        self.act1 = nn.ReLU()\n",
    "        self.layer3 = nn.Linear(12 , 10)\n",
    "        self.act2 = nn.ReLU()\n",
    "        self.layer4 = nn.Linear(10 , 8)\n",
    "        self.act3 = nn.ReLU()\n",
    "        self.layer5 = nn.Linear(8 , 4)\n",
    "#         self.act_output = nn.Softmax(dim=4)\n",
    "    \n",
    "    def forward(self , x):\n",
    "        x = self.act(self.layer1(x))\n",
    "        x = self.act1(self.layer2(x))\n",
    "        x = self.act2(self.layer3(x))\n",
    "        x = self.act3(self.layer4(x))\n",
    "        x = self.act3(self.layer5(x))\n",
    "        return x\n",
    "        "
   ]
  },
  {
   "cell_type": "code",
   "execution_count": 19,
   "id": "653604a7",
   "metadata": {},
   "outputs": [
    {
     "ename": "RuntimeError",
     "evalue": "The size of tensor a (4) must match the size of tensor b (64) at non-singleton dimension 0",
     "output_type": "error",
     "traceback": [
      "\u001b[1;31m---------------------------------------------------------------------------\u001b[0m",
      "\u001b[1;31mRuntimeError\u001b[0m                              Traceback (most recent call last)",
      "Input \u001b[1;32mIn [19]\u001b[0m, in \u001b[0;36m<cell line: 6>\u001b[1;34m()\u001b[0m\n\u001b[0;32m     17\u001b[0m     loss\u001b[38;5;241m.\u001b[39mbackward()\n\u001b[0;32m     18\u001b[0m     optimizer\u001b[38;5;241m.\u001b[39mstep()\n\u001b[1;32m---> 20\u001b[0m     total_correct \u001b[38;5;241m+\u001b[39m\u001b[38;5;241m=\u001b[39m (\u001b[43my_pred\u001b[49m\u001b[38;5;241;43m.\u001b[39;49m\u001b[43margmax\u001b[49m\u001b[43m(\u001b[49m\u001b[43mdim\u001b[49m\u001b[38;5;241;43m=\u001b[39;49m\u001b[38;5;241;43m0\u001b[39;49m\u001b[43m)\u001b[49m\u001b[43m \u001b[49m\u001b[38;5;241;43m==\u001b[39;49m\u001b[43m \u001b[49m\u001b[43mtargets\u001b[49m)\u001b[38;5;241m.\u001b[39msum()\u001b[38;5;241m.\u001b[39mitem()\n\u001b[0;32m     21\u001b[0m     total_data \u001b[38;5;241m+\u001b[39m\u001b[38;5;241m=\u001b[39m targets\u001b[38;5;241m.\u001b[39msize(\u001b[38;5;241m0\u001b[39m)\n\u001b[0;32m     23\u001b[0m accuracy \u001b[38;5;241m=\u001b[39m total_correct \u001b[38;5;241m/\u001b[39m total_data\n",
      "\u001b[1;31mRuntimeError\u001b[0m: The size of tensor a (4) must match the size of tensor b (64) at non-singleton dimension 0"
     ]
    }
   ],
   "source": [
    "loss_fn = nn.CrossEntropyLoss()\n",
    "# optimizer = torch.optim.Adam(Net().parameters() , lr=0.001)\n",
    "total_correct = 0\n",
    "total_data = 0\n",
    "\n",
    "for epoch in range(100):\n",
    "    for batch in train_dataloader:\n",
    "        data, targets = batch  # Unpack each batch within the loop\n",
    "        y_pred = Net(data)\n",
    "        y_pred = y_pred(data)\n",
    "        optimizer = torch.optim.Adam(Net(data).parameters() , lr=0.001)\n",
    "#         y_pred = y_pred.to(torch.float)\n",
    "#         ybatch = ybatch.to(torch.long)\n",
    "#         ybatch = y_train[i:i+batch_size]\n",
    "        loss = loss_fn(y_pred, targets)\n",
    "        optimizer.zero_grad()\n",
    "        loss.backward()\n",
    "        optimizer.step()\n",
    "        \n",
    "        total_correct += (y_pred.argmax(dim=0) == targets).sum().item()\n",
    "        total_data += targets.size(0)\n",
    "        \n",
    "    accuracy = total_correct / total_data\n",
    "    print(f\"Epoch number: {epoch}. Loss: {loss}.  Accuracy: {accuracy}\")"
   ]
  },
  {
   "cell_type": "code",
   "execution_count": null,
   "id": "837121b2",
   "metadata": {},
   "outputs": [],
   "source": []
  }
 ],
 "metadata": {
  "kernelspec": {
   "display_name": "Python 3 (ipykernel)",
   "language": "python",
   "name": "python3"
  },
  "language_info": {
   "codemirror_mode": {
    "name": "ipython",
    "version": 3
   },
   "file_extension": ".py",
   "mimetype": "text/x-python",
   "name": "python",
   "nbconvert_exporter": "python",
   "pygments_lexer": "ipython3",
   "version": "3.8.6"
  }
 },
 "nbformat": 4,
 "nbformat_minor": 5
}
